{
 "cells": [
  {
   "cell_type": "code",
   "execution_count": 40,
   "id": "bc37651e",
   "metadata": {},
   "outputs": [],
   "source": [
    "import tensorflow as tf"
   ]
  },
  {
   "cell_type": "code",
   "execution_count": 2,
   "id": "2992a3b2",
   "metadata": {},
   "outputs": [
    {
     "name": "stdout",
     "output_type": "stream",
     "text": [
      "2.12.0\n"
     ]
    }
   ],
   "source": [
    "print(tf.__version__)"
   ]
  },
  {
   "cell_type": "code",
   "execution_count": 42,
   "id": "3fb9a1e6",
   "metadata": {},
   "outputs": [],
   "source": [
    "import numpy as np\n",
    "import  pandas as pd\n",
    "import matplotlib.pyplot as plt\n",
    "import matplotlib"
   ]
  },
  {
   "cell_type": "code",
   "execution_count": 4,
   "id": "eb566126",
   "metadata": {},
   "outputs": [],
   "source": [
    "dataset=pd.read_csv('Churn_Modelling.csv')"
   ]
  },
  {
   "cell_type": "code",
   "execution_count": 5,
   "id": "a386bfb5",
   "metadata": {},
   "outputs": [
    {
     "data": {
      "text/html": [
       "<div>\n",
       "<style scoped>\n",
       "    .dataframe tbody tr th:only-of-type {\n",
       "        vertical-align: middle;\n",
       "    }\n",
       "\n",
       "    .dataframe tbody tr th {\n",
       "        vertical-align: top;\n",
       "    }\n",
       "\n",
       "    .dataframe thead th {\n",
       "        text-align: right;\n",
       "    }\n",
       "</style>\n",
       "<table border=\"1\" class=\"dataframe\">\n",
       "  <thead>\n",
       "    <tr style=\"text-align: right;\">\n",
       "      <th></th>\n",
       "      <th>RowNumber</th>\n",
       "      <th>CustomerId</th>\n",
       "      <th>Surname</th>\n",
       "      <th>CreditScore</th>\n",
       "      <th>Geography</th>\n",
       "      <th>Gender</th>\n",
       "      <th>Age</th>\n",
       "      <th>Tenure</th>\n",
       "      <th>Balance</th>\n",
       "      <th>NumOfProducts</th>\n",
       "      <th>HasCrCard</th>\n",
       "      <th>IsActiveMember</th>\n",
       "      <th>EstimatedSalary</th>\n",
       "      <th>Exited</th>\n",
       "    </tr>\n",
       "  </thead>\n",
       "  <tbody>\n",
       "    <tr>\n",
       "      <th>0</th>\n",
       "      <td>1</td>\n",
       "      <td>15634602</td>\n",
       "      <td>Hargrave</td>\n",
       "      <td>619</td>\n",
       "      <td>France</td>\n",
       "      <td>Female</td>\n",
       "      <td>42</td>\n",
       "      <td>2</td>\n",
       "      <td>0.00</td>\n",
       "      <td>1</td>\n",
       "      <td>1</td>\n",
       "      <td>1</td>\n",
       "      <td>101348.88</td>\n",
       "      <td>1</td>\n",
       "    </tr>\n",
       "    <tr>\n",
       "      <th>1</th>\n",
       "      <td>2</td>\n",
       "      <td>15647311</td>\n",
       "      <td>Hill</td>\n",
       "      <td>608</td>\n",
       "      <td>Spain</td>\n",
       "      <td>Female</td>\n",
       "      <td>41</td>\n",
       "      <td>1</td>\n",
       "      <td>83807.86</td>\n",
       "      <td>1</td>\n",
       "      <td>0</td>\n",
       "      <td>1</td>\n",
       "      <td>112542.58</td>\n",
       "      <td>0</td>\n",
       "    </tr>\n",
       "    <tr>\n",
       "      <th>2</th>\n",
       "      <td>3</td>\n",
       "      <td>15619304</td>\n",
       "      <td>Onio</td>\n",
       "      <td>502</td>\n",
       "      <td>France</td>\n",
       "      <td>Female</td>\n",
       "      <td>42</td>\n",
       "      <td>8</td>\n",
       "      <td>159660.80</td>\n",
       "      <td>3</td>\n",
       "      <td>1</td>\n",
       "      <td>0</td>\n",
       "      <td>113931.57</td>\n",
       "      <td>1</td>\n",
       "    </tr>\n",
       "    <tr>\n",
       "      <th>3</th>\n",
       "      <td>4</td>\n",
       "      <td>15701354</td>\n",
       "      <td>Boni</td>\n",
       "      <td>699</td>\n",
       "      <td>France</td>\n",
       "      <td>Female</td>\n",
       "      <td>39</td>\n",
       "      <td>1</td>\n",
       "      <td>0.00</td>\n",
       "      <td>2</td>\n",
       "      <td>0</td>\n",
       "      <td>0</td>\n",
       "      <td>93826.63</td>\n",
       "      <td>0</td>\n",
       "    </tr>\n",
       "    <tr>\n",
       "      <th>4</th>\n",
       "      <td>5</td>\n",
       "      <td>15737888</td>\n",
       "      <td>Mitchell</td>\n",
       "      <td>850</td>\n",
       "      <td>Spain</td>\n",
       "      <td>Female</td>\n",
       "      <td>43</td>\n",
       "      <td>2</td>\n",
       "      <td>125510.82</td>\n",
       "      <td>1</td>\n",
       "      <td>1</td>\n",
       "      <td>1</td>\n",
       "      <td>79084.10</td>\n",
       "      <td>0</td>\n",
       "    </tr>\n",
       "  </tbody>\n",
       "</table>\n",
       "</div>"
      ],
      "text/plain": [
       "   RowNumber  CustomerId   Surname  CreditScore Geography  Gender  Age  \\\n",
       "0          1    15634602  Hargrave          619    France  Female   42   \n",
       "1          2    15647311      Hill          608     Spain  Female   41   \n",
       "2          3    15619304      Onio          502    France  Female   42   \n",
       "3          4    15701354      Boni          699    France  Female   39   \n",
       "4          5    15737888  Mitchell          850     Spain  Female   43   \n",
       "\n",
       "   Tenure    Balance  NumOfProducts  HasCrCard  IsActiveMember  \\\n",
       "0       2       0.00              1          1               1   \n",
       "1       1   83807.86              1          0               1   \n",
       "2       8  159660.80              3          1               0   \n",
       "3       1       0.00              2          0               0   \n",
       "4       2  125510.82              1          1               1   \n",
       "\n",
       "   EstimatedSalary  Exited  \n",
       "0        101348.88       1  \n",
       "1        112542.58       0  \n",
       "2        113931.57       1  \n",
       "3         93826.63       0  \n",
       "4         79084.10       0  "
      ]
     },
     "execution_count": 5,
     "metadata": {},
     "output_type": "execute_result"
    }
   ],
   "source": [
    "dataset.head()"
   ]
  },
  {
   "cell_type": "code",
   "execution_count": 6,
   "id": "2b766810",
   "metadata": {},
   "outputs": [],
   "source": [
    "X=dataset.iloc[:,3:13]\n",
    "Y=dataset.iloc[:,13]"
   ]
  },
  {
   "cell_type": "code",
   "execution_count": 7,
   "id": "20935a02",
   "metadata": {},
   "outputs": [
    {
     "data": {
      "text/plain": [
       "0    1\n",
       "1    0\n",
       "2    1\n",
       "3    0\n",
       "4    0\n",
       "Name: Exited, dtype: int64"
      ]
     },
     "execution_count": 7,
     "metadata": {},
     "output_type": "execute_result"
    }
   ],
   "source": [
    "Y.head()"
   ]
  },
  {
   "cell_type": "code",
   "execution_count": 8,
   "id": "858ac5e3",
   "metadata": {},
   "outputs": [],
   "source": [
    "geography=pd.get_dummies(X['Geography'],drop_first=True)\n",
    "gender=pd.get_dummies(X['Gender'],drop_first=True)"
   ]
  },
  {
   "cell_type": "code",
   "execution_count": 9,
   "id": "9301b716",
   "metadata": {},
   "outputs": [],
   "source": [
    "X=X.drop(['Geography','Gender'],axis=1)"
   ]
  },
  {
   "cell_type": "code",
   "execution_count": 10,
   "id": "a0ae5f40",
   "metadata": {},
   "outputs": [
    {
     "data": {
      "text/html": [
       "<div>\n",
       "<style scoped>\n",
       "    .dataframe tbody tr th:only-of-type {\n",
       "        vertical-align: middle;\n",
       "    }\n",
       "\n",
       "    .dataframe tbody tr th {\n",
       "        vertical-align: top;\n",
       "    }\n",
       "\n",
       "    .dataframe thead th {\n",
       "        text-align: right;\n",
       "    }\n",
       "</style>\n",
       "<table border=\"1\" class=\"dataframe\">\n",
       "  <thead>\n",
       "    <tr style=\"text-align: right;\">\n",
       "      <th></th>\n",
       "      <th>CreditScore</th>\n",
       "      <th>Age</th>\n",
       "      <th>Tenure</th>\n",
       "      <th>Balance</th>\n",
       "      <th>NumOfProducts</th>\n",
       "      <th>HasCrCard</th>\n",
       "      <th>IsActiveMember</th>\n",
       "      <th>EstimatedSalary</th>\n",
       "      <th>Germany</th>\n",
       "      <th>Spain</th>\n",
       "      <th>Male</th>\n",
       "    </tr>\n",
       "  </thead>\n",
       "  <tbody>\n",
       "    <tr>\n",
       "      <th>0</th>\n",
       "      <td>619</td>\n",
       "      <td>42</td>\n",
       "      <td>2</td>\n",
       "      <td>0.00</td>\n",
       "      <td>1</td>\n",
       "      <td>1</td>\n",
       "      <td>1</td>\n",
       "      <td>101348.88</td>\n",
       "      <td>0</td>\n",
       "      <td>0</td>\n",
       "      <td>0</td>\n",
       "    </tr>\n",
       "    <tr>\n",
       "      <th>1</th>\n",
       "      <td>608</td>\n",
       "      <td>41</td>\n",
       "      <td>1</td>\n",
       "      <td>83807.86</td>\n",
       "      <td>1</td>\n",
       "      <td>0</td>\n",
       "      <td>1</td>\n",
       "      <td>112542.58</td>\n",
       "      <td>0</td>\n",
       "      <td>1</td>\n",
       "      <td>0</td>\n",
       "    </tr>\n",
       "    <tr>\n",
       "      <th>2</th>\n",
       "      <td>502</td>\n",
       "      <td>42</td>\n",
       "      <td>8</td>\n",
       "      <td>159660.80</td>\n",
       "      <td>3</td>\n",
       "      <td>1</td>\n",
       "      <td>0</td>\n",
       "      <td>113931.57</td>\n",
       "      <td>0</td>\n",
       "      <td>0</td>\n",
       "      <td>0</td>\n",
       "    </tr>\n",
       "    <tr>\n",
       "      <th>3</th>\n",
       "      <td>699</td>\n",
       "      <td>39</td>\n",
       "      <td>1</td>\n",
       "      <td>0.00</td>\n",
       "      <td>2</td>\n",
       "      <td>0</td>\n",
       "      <td>0</td>\n",
       "      <td>93826.63</td>\n",
       "      <td>0</td>\n",
       "      <td>0</td>\n",
       "      <td>0</td>\n",
       "    </tr>\n",
       "    <tr>\n",
       "      <th>4</th>\n",
       "      <td>850</td>\n",
       "      <td>43</td>\n",
       "      <td>2</td>\n",
       "      <td>125510.82</td>\n",
       "      <td>1</td>\n",
       "      <td>1</td>\n",
       "      <td>1</td>\n",
       "      <td>79084.10</td>\n",
       "      <td>0</td>\n",
       "      <td>1</td>\n",
       "      <td>0</td>\n",
       "    </tr>\n",
       "    <tr>\n",
       "      <th>...</th>\n",
       "      <td>...</td>\n",
       "      <td>...</td>\n",
       "      <td>...</td>\n",
       "      <td>...</td>\n",
       "      <td>...</td>\n",
       "      <td>...</td>\n",
       "      <td>...</td>\n",
       "      <td>...</td>\n",
       "      <td>...</td>\n",
       "      <td>...</td>\n",
       "      <td>...</td>\n",
       "    </tr>\n",
       "    <tr>\n",
       "      <th>9995</th>\n",
       "      <td>771</td>\n",
       "      <td>39</td>\n",
       "      <td>5</td>\n",
       "      <td>0.00</td>\n",
       "      <td>2</td>\n",
       "      <td>1</td>\n",
       "      <td>0</td>\n",
       "      <td>96270.64</td>\n",
       "      <td>0</td>\n",
       "      <td>0</td>\n",
       "      <td>1</td>\n",
       "    </tr>\n",
       "    <tr>\n",
       "      <th>9996</th>\n",
       "      <td>516</td>\n",
       "      <td>35</td>\n",
       "      <td>10</td>\n",
       "      <td>57369.61</td>\n",
       "      <td>1</td>\n",
       "      <td>1</td>\n",
       "      <td>1</td>\n",
       "      <td>101699.77</td>\n",
       "      <td>0</td>\n",
       "      <td>0</td>\n",
       "      <td>1</td>\n",
       "    </tr>\n",
       "    <tr>\n",
       "      <th>9997</th>\n",
       "      <td>709</td>\n",
       "      <td>36</td>\n",
       "      <td>7</td>\n",
       "      <td>0.00</td>\n",
       "      <td>1</td>\n",
       "      <td>0</td>\n",
       "      <td>1</td>\n",
       "      <td>42085.58</td>\n",
       "      <td>0</td>\n",
       "      <td>0</td>\n",
       "      <td>0</td>\n",
       "    </tr>\n",
       "    <tr>\n",
       "      <th>9998</th>\n",
       "      <td>772</td>\n",
       "      <td>42</td>\n",
       "      <td>3</td>\n",
       "      <td>75075.31</td>\n",
       "      <td>2</td>\n",
       "      <td>1</td>\n",
       "      <td>0</td>\n",
       "      <td>92888.52</td>\n",
       "      <td>1</td>\n",
       "      <td>0</td>\n",
       "      <td>1</td>\n",
       "    </tr>\n",
       "    <tr>\n",
       "      <th>9999</th>\n",
       "      <td>792</td>\n",
       "      <td>28</td>\n",
       "      <td>4</td>\n",
       "      <td>130142.79</td>\n",
       "      <td>1</td>\n",
       "      <td>1</td>\n",
       "      <td>0</td>\n",
       "      <td>38190.78</td>\n",
       "      <td>0</td>\n",
       "      <td>0</td>\n",
       "      <td>0</td>\n",
       "    </tr>\n",
       "  </tbody>\n",
       "</table>\n",
       "<p>10000 rows × 11 columns</p>\n",
       "</div>"
      ],
      "text/plain": [
       "      CreditScore  Age  Tenure    Balance  NumOfProducts  HasCrCard  \\\n",
       "0             619   42       2       0.00              1          1   \n",
       "1             608   41       1   83807.86              1          0   \n",
       "2             502   42       8  159660.80              3          1   \n",
       "3             699   39       1       0.00              2          0   \n",
       "4             850   43       2  125510.82              1          1   \n",
       "...           ...  ...     ...        ...            ...        ...   \n",
       "9995          771   39       5       0.00              2          1   \n",
       "9996          516   35      10   57369.61              1          1   \n",
       "9997          709   36       7       0.00              1          0   \n",
       "9998          772   42       3   75075.31              2          1   \n",
       "9999          792   28       4  130142.79              1          1   \n",
       "\n",
       "      IsActiveMember  EstimatedSalary  Germany  Spain  Male  \n",
       "0                  1        101348.88        0      0     0  \n",
       "1                  1        112542.58        0      1     0  \n",
       "2                  0        113931.57        0      0     0  \n",
       "3                  0         93826.63        0      0     0  \n",
       "4                  1         79084.10        0      1     0  \n",
       "...              ...              ...      ...    ...   ...  \n",
       "9995               0         96270.64        0      0     1  \n",
       "9996               1        101699.77        0      0     1  \n",
       "9997               1         42085.58        0      0     0  \n",
       "9998               0         92888.52        1      0     1  \n",
       "9999               0         38190.78        0      0     0  \n",
       "\n",
       "[10000 rows x 11 columns]"
      ]
     },
     "execution_count": 10,
     "metadata": {},
     "output_type": "execute_result"
    }
   ],
   "source": [
    "pd.concat([X,geography,gender],axis=1)"
   ]
  },
  {
   "cell_type": "code",
   "execution_count": 11,
   "id": "89821164",
   "metadata": {},
   "outputs": [],
   "source": [
    "from sklearn.model_selection import train_test_split"
   ]
  },
  {
   "cell_type": "code",
   "execution_count": 12,
   "id": "9a25f844",
   "metadata": {},
   "outputs": [],
   "source": [
    "X_train,x_test,Y_train,y_test=train_test_split(X,Y,test_size=0.33,random_state=0)"
   ]
  },
  {
   "cell_type": "code",
   "execution_count": 13,
   "id": "8fb31ec0",
   "metadata": {},
   "outputs": [],
   "source": [
    "from sklearn.preprocessing import StandardScaler"
   ]
  },
  {
   "cell_type": "code",
   "execution_count": 14,
   "id": "d8096b05",
   "metadata": {},
   "outputs": [],
   "source": [
    "sc=StandardScaler()"
   ]
  },
  {
   "cell_type": "code",
   "execution_count": 15,
   "id": "6ab66b0e",
   "metadata": {},
   "outputs": [],
   "source": [
    "X_sc=sc.fit_transform(X_train)\n",
    "Y_sc=sc.transform(x_test)"
   ]
  },
  {
   "cell_type": "markdown",
   "id": "9795ddce",
   "metadata": {},
   "source": [
    "# Part 2 - Now let's make the ANN!"
   ]
  },
  {
   "cell_type": "code",
   "execution_count": 16,
   "id": "7afc4590",
   "metadata": {},
   "outputs": [],
   "source": [
    "from tensorflow.keras.models import Sequential\n",
    "from tensorflow.keras.layers import Dense\n",
    "from tensorflow.keras.layers import LeakyReLU,PReLU,ELU\n",
    "from tensorflow.keras.layers import Dropout"
   ]
  },
  {
   "cell_type": "code",
   "execution_count": 17,
   "id": "aa0b20e4",
   "metadata": {},
   "outputs": [],
   "source": [
    "# Initialising the ANN\n",
    "classifier=Sequential()"
   ]
  },
  {
   "cell_type": "code",
   "execution_count": 18,
   "id": "51d93e11",
   "metadata": {},
   "outputs": [],
   "source": [
    "# Adding the input layer and the first hidden layer\n",
    "classifier.add(Dense(units=11,activation='ReLU'))"
   ]
  },
  {
   "cell_type": "code",
   "execution_count": 19,
   "id": "351da88b",
   "metadata": {},
   "outputs": [],
   "source": [
    "# Adding the input layer and the first hidden layer\n",
    "classifier.add(Dense(units=7,activation='ReLU'))"
   ]
  },
  {
   "cell_type": "code",
   "execution_count": 20,
   "id": "5ee1690b",
   "metadata": {},
   "outputs": [],
   "source": [
    "# Adding the input layer and the second hidden layer\n",
    "classifier.add(Dense(units=6,activation='ReLU'))"
   ]
  },
  {
   "cell_type": "code",
   "execution_count": 21,
   "id": "d96df1b5",
   "metadata": {},
   "outputs": [],
   "source": [
    "# Adding the ouput layer\n",
    "classifier.add(Dense(units=1,activation='relu'))"
   ]
  },
  {
   "cell_type": "code",
   "execution_count": 22,
   "id": "82bde522",
   "metadata": {},
   "outputs": [],
   "source": [
    "classifier.compile(optimizer='adam',loss='binary_crossentropy',metrics=['accuracy'])"
   ]
  },
  {
   "cell_type": "code",
   "execution_count": 43,
   "id": "5edf1ef6",
   "metadata": {},
   "outputs": [
    {
     "name": "stdout",
     "output_type": "stream",
     "text": [
      "Epoch 1/50\n",
      "449/449 [==============================] - 2s 5ms/step - loss: 0.3376 - accuracy: 0.8581 - val_loss: 0.4087 - val_accuracy: 0.8454\n",
      "Epoch 2/50\n",
      "449/449 [==============================] - 2s 4ms/step - loss: 0.3391 - accuracy: 0.8590 - val_loss: 0.3958 - val_accuracy: 0.8440\n",
      "Epoch 3/50\n",
      "449/449 [==============================] - 2s 4ms/step - loss: 0.3351 - accuracy: 0.8570 - val_loss: 0.3953 - val_accuracy: 0.8436\n",
      "Epoch 4/50\n",
      "449/449 [==============================] - 2s 4ms/step - loss: 0.3404 - accuracy: 0.8585 - val_loss: 0.4455 - val_accuracy: 0.8467\n",
      "Epoch 5/50\n",
      "449/449 [==============================] - 2s 4ms/step - loss: 0.3415 - accuracy: 0.8565 - val_loss: 0.4266 - val_accuracy: 0.8476\n",
      "Epoch 6/50\n",
      "449/449 [==============================] - 2s 5ms/step - loss: 0.3406 - accuracy: 0.8556 - val_loss: 0.4425 - val_accuracy: 0.8440\n",
      "Epoch 7/50\n",
      "449/449 [==============================] - 2s 5ms/step - loss: 0.3446 - accuracy: 0.8592 - val_loss: 0.4087 - val_accuracy: 0.8463\n",
      "Epoch 8/50\n",
      "449/449 [==============================] - 2s 5ms/step - loss: 0.3400 - accuracy: 0.8565 - val_loss: 0.4654 - val_accuracy: 0.8467\n",
      "Epoch 9/50\n",
      "449/449 [==============================] - 2s 4ms/step - loss: 0.3427 - accuracy: 0.8598 - val_loss: 0.4315 - val_accuracy: 0.8449\n",
      "Epoch 10/50\n",
      "449/449 [==============================] - 2s 4ms/step - loss: 0.3418 - accuracy: 0.8578 - val_loss: 0.3986 - val_accuracy: 0.8486\n",
      "Epoch 11/50\n",
      "449/449 [==============================] - 2s 5ms/step - loss: 0.3443 - accuracy: 0.8581 - val_loss: 0.4065 - val_accuracy: 0.8463\n",
      "Epoch 12/50\n",
      "449/449 [==============================] - 2s 5ms/step - loss: 0.3507 - accuracy: 0.8561 - val_loss: 0.3955 - val_accuracy: 0.8467\n",
      "Epoch 13/50\n",
      "449/449 [==============================] - 2s 5ms/step - loss: 0.3486 - accuracy: 0.8581 - val_loss: 0.4143 - val_accuracy: 0.8431\n",
      "Epoch 14/50\n",
      "449/449 [==============================] - 2s 5ms/step - loss: 0.3475 - accuracy: 0.8558 - val_loss: 0.4222 - val_accuracy: 0.8382\n",
      "Epoch 15/50\n",
      "449/449 [==============================] - 2s 5ms/step - loss: 0.3538 - accuracy: 0.8561 - val_loss: 0.4093 - val_accuracy: 0.8377\n",
      "Epoch 16/50\n",
      "449/449 [==============================] - 2s 4ms/step - loss: 0.3444 - accuracy: 0.8570 - val_loss: 0.3980 - val_accuracy: 0.8449\n",
      "Epoch 17/50\n",
      "449/449 [==============================] - 2s 4ms/step - loss: 0.3442 - accuracy: 0.8574 - val_loss: 0.4008 - val_accuracy: 0.8467\n",
      "Epoch 18/50\n",
      "449/449 [==============================] - 2s 5ms/step - loss: 0.3395 - accuracy: 0.8567 - val_loss: 0.3941 - val_accuracy: 0.8472\n",
      "Epoch 19/50\n",
      "449/449 [==============================] - 2s 5ms/step - loss: 0.3394 - accuracy: 0.8556 - val_loss: 0.3961 - val_accuracy: 0.8454\n",
      "Epoch 20/50\n",
      "449/449 [==============================] - 2s 4ms/step - loss: 0.3378 - accuracy: 0.8587 - val_loss: 0.4020 - val_accuracy: 0.8490\n",
      "Epoch 21/50\n",
      "449/449 [==============================] - 2s 4ms/step - loss: 0.3399 - accuracy: 0.8563 - val_loss: 0.4150 - val_accuracy: 0.8490\n",
      "Epoch 22/50\n",
      "449/449 [==============================] - 2s 4ms/step - loss: 0.3367 - accuracy: 0.8572 - val_loss: 0.4115 - val_accuracy: 0.8445\n",
      "Epoch 23/50\n",
      "449/449 [==============================] - 2s 4ms/step - loss: 0.3360 - accuracy: 0.8578 - val_loss: 0.4077 - val_accuracy: 0.8472\n",
      "Epoch 24/50\n",
      "449/449 [==============================] - 2s 4ms/step - loss: 0.3354 - accuracy: 0.8587 - val_loss: 0.4097 - val_accuracy: 0.8495\n",
      "Epoch 25/50\n",
      "449/449 [==============================] - 2s 4ms/step - loss: 0.3343 - accuracy: 0.8616 - val_loss: 0.4050 - val_accuracy: 0.8508\n",
      "Epoch 26/50\n",
      "449/449 [==============================] - 2s 5ms/step - loss: 0.3336 - accuracy: 0.8574 - val_loss: 0.4126 - val_accuracy: 0.8499\n",
      "Epoch 27/50\n",
      "449/449 [==============================] - 2s 4ms/step - loss: 0.3373 - accuracy: 0.8583 - val_loss: 0.4033 - val_accuracy: 0.8508\n",
      "Epoch 28/50\n",
      "449/449 [==============================] - 2s 5ms/step - loss: 0.3352 - accuracy: 0.8570 - val_loss: 0.4081 - val_accuracy: 0.8499\n",
      "Epoch 29/50\n",
      "449/449 [==============================] - 2s 4ms/step - loss: 0.3357 - accuracy: 0.8576 - val_loss: 0.4069 - val_accuracy: 0.8499\n",
      "Epoch 30/50\n",
      "449/449 [==============================] - 2s 5ms/step - loss: 0.3357 - accuracy: 0.8563 - val_loss: 0.4127 - val_accuracy: 0.8445\n",
      "Epoch 31/50\n",
      "449/449 [==============================] - 2s 5ms/step - loss: 0.3345 - accuracy: 0.8565 - val_loss: 0.4214 - val_accuracy: 0.8513\n",
      "Epoch 32/50\n",
      "449/449 [==============================] - 2s 4ms/step - loss: 0.3315 - accuracy: 0.8594 - val_loss: 0.4215 - val_accuracy: 0.8535\n",
      "Epoch 33/50\n",
      "449/449 [==============================] - 2s 4ms/step - loss: 0.3304 - accuracy: 0.8610 - val_loss: 0.4158 - val_accuracy: 0.8517\n",
      "Epoch 34/50\n",
      "449/449 [==============================] - 2s 4ms/step - loss: 0.3304 - accuracy: 0.8594 - val_loss: 0.3972 - val_accuracy: 0.8513\n",
      "Epoch 35/50\n",
      "449/449 [==============================] - 2s 4ms/step - loss: 0.3306 - accuracy: 0.8605 - val_loss: 0.4785 - val_accuracy: 0.8463\n",
      "Epoch 36/50\n",
      "449/449 [==============================] - 2s 4ms/step - loss: 0.3494 - accuracy: 0.8529 - val_loss: 0.4001 - val_accuracy: 0.8436\n",
      "Epoch 37/50\n",
      "449/449 [==============================] - 2s 4ms/step - loss: 0.3449 - accuracy: 0.8565 - val_loss: 0.3968 - val_accuracy: 0.8472\n",
      "Epoch 38/50\n",
      "449/449 [==============================] - 2s 4ms/step - loss: 0.3422 - accuracy: 0.8567 - val_loss: 0.4034 - val_accuracy: 0.8467\n",
      "Epoch 39/50\n",
      "449/449 [==============================] - 2s 4ms/step - loss: 0.3358 - accuracy: 0.8556 - val_loss: 0.4165 - val_accuracy: 0.8458\n",
      "Epoch 40/50\n",
      "449/449 [==============================] - 2s 4ms/step - loss: 0.3336 - accuracy: 0.8585 - val_loss: 0.4291 - val_accuracy: 0.8495\n",
      "Epoch 41/50\n",
      "449/449 [==============================] - 2s 5ms/step - loss: 0.3407 - accuracy: 0.8563 - val_loss: 0.4203 - val_accuracy: 0.8476\n",
      "Epoch 42/50\n",
      "449/449 [==============================] - 2s 5ms/step - loss: 0.3400 - accuracy: 0.8592 - val_loss: 0.4010 - val_accuracy: 0.8481\n",
      "Epoch 43/50\n",
      "449/449 [==============================] - 2s 5ms/step - loss: 0.3332 - accuracy: 0.8585 - val_loss: 0.4111 - val_accuracy: 0.8486\n",
      "Epoch 44/50\n",
      "449/449 [==============================] - 2s 5ms/step - loss: 0.3294 - accuracy: 0.8594 - val_loss: 0.4294 - val_accuracy: 0.8508\n",
      "Epoch 45/50\n",
      "449/449 [==============================] - 2s 4ms/step - loss: 0.3326 - accuracy: 0.8605 - val_loss: 0.4515 - val_accuracy: 0.8490\n",
      "Epoch 46/50\n",
      "449/449 [==============================] - 2s 5ms/step - loss: 0.3278 - accuracy: 0.8612 - val_loss: 0.4249 - val_accuracy: 0.8490\n",
      "Epoch 47/50\n",
      "449/449 [==============================] - 2s 4ms/step - loss: 0.3278 - accuracy: 0.8603 - val_loss: 0.4116 - val_accuracy: 0.8476\n",
      "Epoch 48/50\n",
      "449/449 [==============================] - 2s 5ms/step - loss: 0.3286 - accuracy: 0.8587 - val_loss: 0.4239 - val_accuracy: 0.8490\n",
      "Epoch 49/50\n",
      "449/449 [==============================] - 2s 5ms/step - loss: 0.3287 - accuracy: 0.8610 - val_loss: 0.4369 - val_accuracy: 0.8499\n",
      "Epoch 50/50\n",
      "449/449 [==============================] - 2s 4ms/step - loss: 0.3297 - accuracy: 0.8598 - val_loss: 0.4246 - val_accuracy: 0.8499\n"
     ]
    }
   ],
   "source": [
    "matplotlib.rcParams['figure.figsize'] = (12,9)\n",
    "model_history=classifier.fit(X_sc,Y_train,validation_split=0.33,batch_size=10,epochs=50)"
   ]
  },
  {
   "cell_type": "code",
   "execution_count": 26,
   "id": "b7c1ad31",
   "metadata": {},
   "outputs": [
    {
     "name": "stdout",
     "output_type": "stream",
     "text": [
      "dict_keys(['loss', 'accuracy', 'val_loss', 'val_accuracy'])\n"
     ]
    }
   ],
   "source": [
    "print(model_history.history.keys())"
   ]
  },
  {
   "cell_type": "code",
   "execution_count": 28,
   "id": "1ccfff1c",
   "metadata": {},
   "outputs": [
    {
     "data": {
      "image/png": "[encoded data removed]",
      "text/plain": [
       "<Figure size 640x480 with 1 Axes>"
      ]
     },
     "metadata": {},
     "output_type": "display_data"
    }
   ],
   "source": [
    "plt.plot(model_history.history['accuracy'])\n",
    "plt.plot(model_history.history['val_accuracy'])\n",
    "plt.xlabel('epoch')\n",
    "plt.ylabel('accuracy')\n",
    "plt.title('model accuracy')\n",
    "plt.legend(['train','test'],loc='upper left')\n",
    "plt.show()"
   ]
  },
  {
   "cell_type": "code",
   "execution_count": 29,
   "id": "1a0cd4b0",
   "metadata": {},
   "outputs": [
    {
     "data": {
      "image/png": "[encoded data removed]",
      "text/plain": [
       "<Figure size 640x480 with 1 Axes>"
      ]
     },
     "metadata": {},
     "output_type": "display_data"
    }
   ],
   "source": [
    "plt.plot(model_history.history['loss'])\n",
    "plt.plot(model_history.history['val_loss'])\n",
    "plt.xlabel('epoch')\n",
    "plt.ylabel('loss')\n",
    "plt.title('model loss')\n",
    "plt.legend(['train','test'],loc='upper left')\n",
    "plt.show()"
   ]
  },
  {
   "cell_type": "code",
   "execution_count": 30,
   "id": "26d8f537",
   "metadata": {},
   "outputs": [],
   "source": [
    "from sklearn.metrics import confusion_matrix,accuracy_score"
   ]
  },
  {
   "cell_type": "code",
   "execution_count": 32,
   "id": "5c93613e",
   "metadata": {},
   "outputs": [
    {
     "name": "stdout",
     "output_type": "stream",
     "text": [
      "104/104 [==============================] - 0s 2ms/step\n"
     ]
    }
   ],
   "source": [
    "y_pred=classifier.predict(Y_sc)\n",
    "y_pred=(y_pred>0.5)"
   ]
  },
  {
   "cell_type": "code",
   "execution_count": 38,
   "id": "1122ae2d",
   "metadata": {},
   "outputs": [
    {
     "data": {
      "text/plain": [
       "array([[2485,  132],\n",
       "       [ 344,  339]], dtype=int64)"
      ]
     },
     "execution_count": 38,
     "metadata": {},
     "output_type": "execute_result"
    }
   ],
   "source": [
    "confusion_matrix(y_test,y_pred)"
   ]
  },
  {
   "cell_type": "code",
   "execution_count": 39,
   "id": "669e34f3",
   "metadata": {},
   "outputs": [
    {
     "data": {
      "text/plain": [
       "0.8557575757575757"
      ]
     },
     "execution_count": 39,
     "metadata": {},
     "output_type": "execute_result"
    }
   ],
   "source": [
    "accuracy_score(y_test,y_pred)"
   ]
  },
  {
   "cell_type": "code",
   "execution_count": null,
   "id": "43165d46",
   "metadata": {},
   "outputs": [],
   "source": []
  }
 ],
 "metadata": {
  "kernelspec": {
   "display_name": "Python 3 (ipykernel)",
   "language": "python",
   "name": "python3"
  },
  "language_info": {
   "codemirror_mode": {
    "name": "ipython",
    "version": 3
   },
   "file_extension": ".py",
   "mimetype": "text/x-python",
   "name": "python",
   "nbconvert_exporter": "python",
   "pygments_lexer": "ipython3",
   "version": "3.10.4"
  }
 },
 "nbformat": 4,
 "nbformat_minor": 5
}
